{
 "cells": [
  {
   "cell_type": "markdown",
   "metadata": {},
   "source": [
    "#### Count Sort"
   ]
  },
  {
   "cell_type": "code",
   "execution_count": 1,
   "metadata": {},
   "outputs": [],
   "source": [
    "def countSort(nums: list[int]):\n",
    "    sorted = [0] * len(nums)\n",
    "    minimum = min(nums)\n",
    "    maximum = max(nums)\n",
    "    orders = [0] * (maximum - minimum + 1)\n",
    "    for num in nums:\n",
    "        orders[num - minimum] += 1\n",
    "    for i in range(1, len(orders)):\n",
    "        orders[i] += orders[i - 1]\n",
    "    start = maximum\n",
    "    for i in range(len(orders) - 1, 0, -1):\n",
    "        k = orders[i]\n",
    "        while (k > orders[i - 1]):\n",
    "            sorted[k - 1] = start\n",
    "            k -= 1\n",
    "        start -= 1\n",
    "    return sorted"
   ]
  },
  {
   "cell_type": "code",
   "execution_count": 2,
   "metadata": {},
   "outputs": [
    {
     "data": {
      "text/plain": [
       "[0, 1, 1, 2, 4, 4, 5, 6, 7]"
      ]
     },
     "execution_count": 2,
     "metadata": {},
     "output_type": "execute_result"
    }
   ],
   "source": [
    "countSort([1,1,2,5,4,4,0,7,6])"
   ]
  },
  {
   "cell_type": "markdown",
   "metadata": {},
   "source": [
    "#### Cycle Sort"
   ]
  },
  {
   "cell_type": "code",
   "execution_count": 26,
   "metadata": {},
   "outputs": [],
   "source": [
    "def cycleSort(nums: list[int]):\n",
    "    i, count = 0, 0\n",
    "    while (i < len(nums) - 1):\n",
    "        current = nums[i]\n",
    "        for j in range(i + 1, len(nums)):\n",
    "            if nums[j] < current:\n",
    "                count += 1\n",
    "        if count == 0:\n",
    "            i += 1\n",
    "            continue\n",
    "        temp = nums[count + i]\n",
    "        nums[count + i] = current\n",
    "        nums[i] = temp\n",
    "        count = 0\n",
    "    return nums"
   ]
  },
  {
   "cell_type": "code",
   "execution_count": 33,
   "metadata": {},
   "outputs": [
    {
     "data": {
      "text/plain": [
       "[1, 2, 3, 4, 5, 6, 8, 9]"
      ]
     },
     "execution_count": 33,
     "metadata": {},
     "output_type": "execute_result"
    }
   ],
   "source": [
    "cycleSort([4,3,9,1,6,2,8,5])"
   ]
  },
  {
   "cell_type": "markdown",
   "metadata": {},
   "source": [
    "#### Merge Sort"
   ]
  },
  {
   "cell_type": "code",
   "execution_count": 44,
   "metadata": {},
   "outputs": [],
   "source": [
    "def mergeSort(nums: list[int]):\n",
    "    if len(nums) == 1:\n",
    "        return nums\n",
    "    l_nums = mergeSort(nums[:len(nums)//2])\n",
    "    r_nums = mergeSort(nums[len(nums)//2:])\n",
    "    return merge(l_nums, r_nums)\n",
    "\n",
    "\n",
    "def merge(l_nums: list[int], r_nums: list[int]):\n",
    "    l, r, nums = 0, 0, []\n",
    "    while l < len(l_nums) and r < len(r_nums):\n",
    "        if l_nums[l] < r_nums[r]:\n",
    "            nums.append(l_nums[l])\n",
    "            l += 1\n",
    "            continue\n",
    "        nums.append(r_nums[r])\n",
    "        r += 1\n",
    "    if l == len(l_nums):\n",
    "        nums.extend(r_nums[r:])\n",
    "        return nums\n",
    "    nums.extend(l_nums[l:])\n",
    "    return nums"
   ]
  },
  {
   "cell_type": "code",
   "execution_count": 47,
   "metadata": {},
   "outputs": [
    {
     "data": {
      "text/plain": [
       "[1, 2, 2, 3, 3, 6, 8, 9, 11, 13, 14, 18]"
      ]
     },
     "execution_count": 47,
     "metadata": {},
     "output_type": "execute_result"
    }
   ],
   "source": [
    "mergeSort([3,6,9,11,8,14,18,1,2,13,3,2])"
   ]
  }
 ],
 "metadata": {
  "kernelspec": {
   "display_name": "Python 3",
   "language": "python",
   "name": "python3"
  },
  "language_info": {
   "codemirror_mode": {
    "name": "ipython",
    "version": 3
   },
   "file_extension": ".py",
   "mimetype": "text/x-python",
   "name": "python",
   "nbconvert_exporter": "python",
   "pygments_lexer": "ipython3",
   "version": "3.11.9"
  }
 },
 "nbformat": 4,
 "nbformat_minor": 2
}
